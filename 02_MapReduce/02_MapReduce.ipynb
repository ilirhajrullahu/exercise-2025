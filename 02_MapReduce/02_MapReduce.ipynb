{
 "cells": [
  {
   "attachments": {},
   "cell_type": "markdown",
   "metadata": {
    "id": "INRjFWSENNKO"
   },
   "source": [
    "# 3. MapReduce\n",
    "\n",
    "For this exercise we are going to use MapReduce in local mode, i.e. we won't be running anything on the cluster!\n",
    " \n",
    "## 3.1. Use the commands `head`, `cat`, `uniq`, `wc`, `sort`, `find`, `xargs`, `awk` to evaluate the NASA log file:\n",
    "\n",
    "* Data File:  <https://raw.githubusercontent.com/scalable-infrastructure/exercise-2024/master/data/nasa/NASA_access_log_Jul95.gz>\n",
    "* Which page was called the most?\n",
    "* What was the most frequent return code?\n",
    "* How many errors occurred? What is the percentage of errors?\n"
   ]
  },
  {
   "cell_type": "code",
   "execution_count": null,
   "metadata": {
    "executionInfo": {
     "elapsed": 580,
     "status": "ok",
     "timestamp": 1615716933129,
     "user": {
      "displayName": "Andre Luckow",
      "photoUrl": "https://lh3.googleusercontent.com/a-/AOh14GgX3nHdZvRUbdHrLYLXgFiGSepV9F6Hd9-YYk29L-Y=s64",
      "userId": "13897213013486729084"
     },
     "user_tz": -60
    },
    "id": "qqUO4ornNNKT"
   },
   "outputs": [],
   "source": [
    "import os, sys"
   ]
  },
  {
   "cell_type": "code",
   "execution_count": null,
   "metadata": {
    "colab": {
     "base_uri": "https://localhost:8080/"
    },
    "executionInfo": {
     "elapsed": 3016,
     "status": "ok",
     "timestamp": 1615716935570,
     "user": {
      "displayName": "Andre Luckow",
      "photoUrl": "https://lh3.googleusercontent.com/a-/AOh14GgX3nHdZvRUbdHrLYLXgFiGSepV9F6Hd9-YYk29L-Y=s64",
      "userId": "13897213013486729084"
     },
     "user_tz": -60
    },
    "id": "m8IXLvLgO5ma",
    "outputId": "251332c9-6c54-4b7f-b43c-19fee13dd1bf"
   },
   "outputs": [],
   "source": [
    "!wget https://raw.githubusercontent.com/scalable-infrastructure/exercise-2024/master/data/nasa/NASA_access_log_Jul95.gz\n",
    "!gzip -d NASA_access_log_Jul95.gz"
   ]
  },
  {
   "cell_type": "code",
   "execution_count": null,
   "metadata": {
    "id": "4ZqF9tYCNNKU",
    "outputId": "1e9265d7-0fe4-4ca1-86a8-df6137f5612d"
   },
   "outputs": [],
   "source": [
    "!head NASA_access_log_Jul95"
   ]
  },
  {
   "cell_type": "code",
   "execution_count": null,
   "metadata": {
    "id": "lzpZ_gfqO5FM"
   },
   "outputs": [],
   "source": []
  }
 ],
 "metadata": {
  "colab": {
   "collapsed_sections": [],
   "name": "03_MapReduce.ipynb",
   "provenance": []
  },
  "kernelspec": {
   "display_name": "Python 3",
   "language": "python",
   "name": "python3"
  },
  "language_info": {
   "codemirror_mode": {
    "name": "ipython",
    "version": 3
   },
   "file_extension": ".py",
   "mimetype": "text/x-python",
   "name": "python",
   "nbconvert_exporter": "python",
   "pygments_lexer": "ipython3",
   "version": "3.7.3"
  }
 },
 "nbformat": 4,
 "nbformat_minor": 0
}
