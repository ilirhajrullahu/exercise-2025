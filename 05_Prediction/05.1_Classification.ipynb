{
 "cells": [
  {
   "attachments": {},
   "cell_type": "markdown",
   "metadata": {
    "id": "WKpl96isxT5l"
   },
   "source": [
    "# 5.1 Classification \n",
    "\n",
    "Create a classification model using a logistic regression!\n",
    "\n",
    "* http://scikit-learn.org/stable/modules/generated/sklearn.linear_model.LogisticRegression.html#sklearn.linear_model.LogisticRegression\n",
    "* Train a model that classifies the type of flower using (i) 2 features (sepal length and width) and (ii) all 4 features! Create a testing dataset of 25% for validation!\n",
    "* Visualize the model!\n",
    "* Create a confusion matrix!\n",
    "* Compute precision and recall for every class in your model!"
   ]
  },
  {
   "cell_type": "code",
   "execution_count": null,
   "metadata": {},
   "outputs": [],
   "source": [
    "!pip install scikit-learn matplotlib numpy pandas"
   ]
  },
  {
   "cell_type": "code",
   "execution_count": null,
   "metadata": {
    "executionInfo": {
     "elapsed": 1983,
     "status": "ok",
     "timestamp": 1616262819181,
     "user": {
      "displayName": "Andre Luckow",
      "photoUrl": "https://lh3.googleusercontent.com/a-/AOh14GgX3nHdZvRUbdHrLYLXgFiGSepV9F6Hd9-YYk29L-Y=s64",
      "userId": "13897213013486729084"
     },
     "user_tz": -60
    },
    "id": "W6GvYlb2xT5q"
   },
   "outputs": [],
   "source": [
    "%matplotlib inline\n",
    "import os, sys\n",
    "from sklearn import linear_model, datasets\n",
    "import pandas as pd\n",
    "import numpy as np\n",
    "import numpy as np\n",
    "import matplotlib.pyplot as plt\n",
    "from sklearn.model_selection import train_test_split\n",
    "from sklearn.metrics import confusion_matrix, accuracy_score"
   ]
  },
  {
   "cell_type": "code",
   "execution_count": null,
   "metadata": {
    "colab": {
     "base_uri": "https://localhost:8080/",
     "height": 204
    },
    "executionInfo": {
     "elapsed": 1978,
     "status": "ok",
     "timestamp": 1616262819185,
     "user": {
      "displayName": "Andre Luckow",
      "photoUrl": "https://lh3.googleusercontent.com/a-/AOh14GgX3nHdZvRUbdHrLYLXgFiGSepV9F6Hd9-YYk29L-Y=s64",
      "userId": "13897213013486729084"
     },
     "user_tz": -60
    },
    "id": "H9UM1YOSxT5r",
    "outputId": "44ef6e25-0dcf-421e-e91e-79d9823bbc75"
   },
   "outputs": [],
   "source": [
    "iris = datasets.load_iris()\n",
    "iris_df = pd.DataFrame(iris.data, columns=iris.feature_names)\n",
    "iris_df['target'] = iris.target\n",
    "iris_df[\"target_name\"]=iris['target_names'][iris_df['target']] \n",
    "iris_df.head()"
   ]
  }
 ],
 "metadata": {
  "colab": {
   "name": "06.1_Classification.ipynb",
   "provenance": []
  },
  "kernelspec": {
   "display_name": "Python 3",
   "language": "python",
   "name": "python3"
  },
  "language_info": {
   "codemirror_mode": {
    "name": "ipython",
    "version": 3
   },
   "file_extension": ".py",
   "mimetype": "text/x-python",
   "name": "python",
   "nbconvert_exporter": "python",
   "pygments_lexer": "ipython3",
   "version": "3.10.9"
  }
 },
 "nbformat": 4,
 "nbformat_minor": 0
}
