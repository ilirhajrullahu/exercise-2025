{
 "cells": [
  {
   "cell_type": "markdown",
   "metadata": {
    "id": "wttATvLPZ405"
   },
   "source": [
    "# Tensorflow Inference\n"
   ]
  },
  {
   "cell_type": "code",
   "execution_count": null,
   "metadata": {
    "colab": {
     "base_uri": "https://localhost:8080/",
     "height": 35
    },
    "executionInfo": {
     "elapsed": 498,
     "status": "ok",
     "timestamp": 1616273495839,
     "user": {
      "displayName": "Andre Luckow",
      "photoUrl": "https://lh3.googleusercontent.com/a-/AOh14GgX3nHdZvRUbdHrLYLXgFiGSepV9F6Hd9-YYk29L-Y=s64",
      "userId": "13897213013486729084"
     },
     "user_tz": -60
    },
    "id": "koxWHVbXZ41A",
    "outputId": "676f9015-1557-4142-e83e-4dbef8727732"
   },
   "outputs": [],
   "source": [
    "import os, sys\n",
    "import tensorflow as tf\n",
    "os.environ[\"KERAS_BACKEND\"]=\"tensorflow\"\n",
    "import keras\n",
    "from keras.applications.resnet50 import ResNet50\n",
    "from keras.preprocessing import image\n",
    "from keras.applications.resnet50 import preprocess_input, decode_predictions\n",
    "import numpy as np\n",
    "tf.__version__"
   ]
  },
  {
   "cell_type": "code",
   "execution_count": 1,
   "metadata": {
    "colab": {
     "base_uri": "https://localhost:8080/"
    },
    "executionInfo": {
     "elapsed": 755,
     "status": "ok",
     "timestamp": 1616273532616,
     "user": {
      "displayName": "Andre Luckow",
      "photoUrl": "https://lh3.googleusercontent.com/a-/AOh14GgX3nHdZvRUbdHrLYLXgFiGSepV9F6Hd9-YYk29L-Y=s64",
      "userId": "13897213013486729084"
     },
     "user_tz": -60
    },
    "id": "RBsR8Y6kaN2e",
    "outputId": "9a122596-b1df-438e-c9d1-dc2d01ef5ee9"
   },
   "outputs": [
    {
     "name": "stdout",
     "output_type": "stream",
     "text": [
      "--2025-02-28 21:29:37--  https://raw.githubusercontent.com/scalable-infrastructure/exercise-2025/master/07_DeepLearning/car.jpg\n",
      "Resolving raw.githubusercontent.com (raw.githubusercontent.com)... 2606:50c0:8003::154, 2606:50c0:8002::154, 2606:50c0:8000::154, ...\n",
      "Connecting to raw.githubusercontent.com (raw.githubusercontent.com)|2606:50c0:8003::154|:443... connected.\n",
      "HTTP request sent, awaiting response... 200 OK\n",
      "Length: 60742 (59K) [image/jpeg]\n",
      "Saving to: ‘car.jpg.1’\n",
      "\n",
      "car.jpg.1           100%[===================>]  59.32K  --.-KB/s    in 0.01s   \n",
      "\n",
      "2025-02-28 21:29:37 (4.71 MB/s) - ‘car.jpg.1’ saved [60742/60742]\n",
      "\n"
     ]
    }
   ],
   "source": [
    "!wget https://raw.githubusercontent.com/scalable-infrastructure/exercise-2025/master/07_DeepLearning/car.jpg"
   ]
  },
  {
   "cell_type": "code",
   "execution_count": null,
   "metadata": {
    "colab": {
     "base_uri": "https://localhost:8080/",
     "height": 529
    },
    "executionInfo": {
     "elapsed": 766,
     "status": "ok",
     "timestamp": 1616273533907,
     "user": {
      "displayName": "Andre Luckow",
      "photoUrl": "https://lh3.googleusercontent.com/a-/AOh14GgX3nHdZvRUbdHrLYLXgFiGSepV9F6Hd9-YYk29L-Y=s64",
      "userId": "13897213013486729084"
     },
     "user_tz": -60
    },
    "id": "c12aqfFUZ41A",
    "outputId": "b6c8821f-bc38-48c6-d107-1249819b3e50"
   },
   "outputs": [],
   "source": [
    "from IPython.display import Image \n",
    "Image(\"car.jpg\")"
   ]
  },
  {
   "cell_type": "markdown",
   "metadata": {
    "id": "kzWp847yZ41B"
   },
   "source": [
    "Do note that the input image format for this model is different than for\n",
    "the VGG16 and ResNet models (299x299 instead of 224x224),\n",
    "and that the input preprocessing function\n",
    "is also different (same as Inception V3)."
   ]
  }
 ],
 "metadata": {
  "colab": {
   "name": "08.1_deeplearning_keras.ipynb",
   "provenance": []
  },
  "kernelspec": {
   "display_name": "data",
   "language": "python",
   "name": "python3"
  },
  "language_info": {
   "codemirror_mode": {
    "name": "ipython",
    "version": 3
   },
   "file_extension": ".py",
   "mimetype": "text/x-python",
   "name": "python",
   "nbconvert_exporter": "python",
   "pygments_lexer": "ipython3",
   "version": "3.12.8"
  }
 },
 "nbformat": 4,
 "nbformat_minor": 0
}
