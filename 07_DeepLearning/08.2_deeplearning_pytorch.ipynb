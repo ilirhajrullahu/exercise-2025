{
 "cells": [
  {
   "cell_type": "code",
   "execution_count": null,
   "metadata": {
    "colab": {
     "base_uri": "https://localhost:8080/",
     "height": 35
    },
    "executionInfo": {
     "elapsed": 497,
     "status": "ok",
     "timestamp": 1617737218212,
     "user": {
      "displayName": "Andre Luckow",
      "photoUrl": "https://lh3.googleusercontent.com/a-/AOh14GgX3nHdZvRUbdHrLYLXgFiGSepV9F6Hd9-YYk29L-Y=s64",
      "userId": "13897213013486729084"
     },
     "user_tz": -120
    },
    "id": "5XqSuAuyo0VR",
    "jupyter": {
     "outputs_hidden": false
    },
    "outputId": "a28f2d7f-991b-4302-92c1-2369cb2656e5"
   },
   "outputs": [],
   "source": [
    "# pytorch installation instructions at pytorch.org\n",
    "# Other dependencies in requirements.txt\n",
    "import io\n",
    "import requests\n",
    "import os, sys\n",
    "from PIL import Image\n",
    "from torchvision import models, transforms\n",
    "from torch.autograd import Variable\n",
    "import torch\n",
    "torch.__version__"
   ]
  },
  {
   "cell_type": "code",
   "execution_count": null,
   "metadata": {
    "colab": {
     "base_uri": "https://localhost:8080/"
    },
    "executionInfo": {
     "elapsed": 622,
     "status": "ok",
     "timestamp": 1617737264957,
     "user": {
      "displayName": "Andre Luckow",
      "photoUrl": "https://lh3.googleusercontent.com/a-/AOh14GgX3nHdZvRUbdHrLYLXgFiGSepV9F6Hd9-YYk29L-Y=s64",
      "userId": "13897213013486729084"
     },
     "user_tz": -120
    },
    "id": "vDvgBAlQo0VY",
    "outputId": "f1568df4-dd6b-4f16-acea-6562748fdcdb"
   },
   "outputs": [],
   "source": [
    "LABELS_URL = 'https://raw.githubusercontent.com/scalable-infrastructure/exercise-2024/master/07_DeepLearning/labels.json'\n",
    "labels = {}\n",
    "for i, label in enumerate(requests.get(LABELS_URL).json()):\n",
    "  labels[i] = label\n",
    "print(labels) "
   ]
  },
  {
   "cell_type": "code",
   "execution_count": null,
   "metadata": {
    "executionInfo": {
     "elapsed": 505,
     "status": "ok",
     "timestamp": 1617737150813,
     "user": {
      "displayName": "Andre Luckow",
      "photoUrl": "https://lh3.googleusercontent.com/a-/AOh14GgX3nHdZvRUbdHrLYLXgFiGSepV9F6Hd9-YYk29L-Y=s64",
      "userId": "13897213013486729084"
     },
     "user_tz": -120
    },
    "id": "CbZh_a9ko0VZ"
   },
   "outputs": [],
   "source": [
    "# This can be any image you like\n",
    "IMG_URL = 'https://raw.githubusercontent.com/scalable-infrastructure/exercise-2024/master/07_DeepLearning/car.jpg'"
   ]
  },
  {
   "cell_type": "markdown",
   "metadata": {
    "id": "HCEw4e74phgG"
   },
   "source": [
    "![link text](https://github.com/scalable-infrastructure/exercise-students-2021/raw/master/08_DeepLearning/car.jpg)"
   ]
  }
 ],
 "metadata": {
  "anaconda-cloud": {},
  "colab": {
   "collapsed_sections": [],
   "name": "08.2_deeplearning_pytorch.ipynb",
   "provenance": []
  },
  "kernelspec": {
   "display_name": "Python 3",
   "language": "python",
   "name": "python3"
  },
  "language_info": {
   "codemirror_mode": {
    "name": "ipython",
    "version": 3
   },
   "file_extension": ".py",
   "mimetype": "text/x-python",
   "name": "python",
   "nbconvert_exporter": "python",
   "pygments_lexer": "ipython3",
   "version": "3.10.9"
  }
 },
 "nbformat": 4,
 "nbformat_minor": 0
}
